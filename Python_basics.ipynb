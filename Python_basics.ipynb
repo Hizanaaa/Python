{
  "nbformat": 4,
  "nbformat_minor": 0,
  "metadata": {
    "colab": {
      "provenance": []
    },
    "kernelspec": {
      "name": "python3",
      "display_name": "Python 3"
    },
    "language_info": {
      "name": "python"
    }
  },
  "cells": [
    {
      "cell_type": "markdown",
      "source": [
        "#PYTHON BASICS"
      ],
      "metadata": {
        "id": "nSmMcImGcJa3"
      }
    },
    {
      "cell_type": "markdown",
      "source": [
        "###GENERAL INFORMATION\n",
        "\n",
        "White space matters. Indent where needed.\n",
        "\n",
        "####Import modules\n",
        "\n",
        "syntax: import module_name"
      ],
      "metadata": {
        "id": "a5ocjbencP4U"
      }
    },
    {
      "cell_type": "markdown",
      "source": [
        "####COMMENTS\n"
      ],
      "metadata": {
        "id": "oReiOvHRcxfO"
      }
    },
    {
      "cell_type": "code",
      "source": [
        "#this is a comment\n",
        "print(\"Hello World!\") #Prints to screen"
      ],
      "metadata": {
        "colab": {
          "base_uri": "https://localhost:8080/"
        },
        "id": "xD8zyY7xcOvg",
        "outputId": "8b72ce4c-696f-48ff-c8fb-56f591a314ee"
      },
      "execution_count": null,
      "outputs": [
        {
          "output_type": "stream",
          "name": "stdout",
          "text": [
            "Hello World!\n"
          ]
        }
      ]
    },
    {
      "cell_type": "markdown",
      "source": [
        "####CONDITIONAL STATEMENTS"
      ],
      "metadata": {
        "id": "8Ucqoc6mdFIq"
      }
    },
    {
      "cell_type": "code",
      "source": [
        "if isSunny:\n",
        "  print(\"Its sunny\")\n",
        "elif go <= temp < 100 and bath > 80:\n",
        "  print(\"Bath is hot and full!\")\n",
        "elif not((job =='qa' or (usr=='adm'))):\n",
        "  print(\"Match if not qa or adm\")\n",
        "else:\n",
        "  print(\"No match job is\" + job) #adds  the job as created"
      ],
      "metadata": {
        "id": "upQ6FXzPdEur"
      },
      "execution_count": null,
      "outputs": []
    },
    {
      "cell_type": "markdown",
      "source": [
        "####STRINGS"
      ],
      "metadata": {
        "id": "gyXqGewTeSoZ"
      }
    },
    {
      "cell_type": "code",
      "execution_count": null,
      "metadata": {
        "id": "vLliug7ucDO9"
      },
      "outputs": [],
      "source": [
        "title = \"Us and them\" #most list operations are as follows"
      ]
    },
    {
      "cell_type": "code",
      "source": [
        "title[0] #character on index 0"
      ],
      "metadata": {
        "colab": {
          "base_uri": "https://localhost:8080/",
          "height": 36
        },
        "id": "Y9DOLQt8eb0q",
        "outputId": "24b3fa49-ad20-41eb-b2e5-79ef4eea372f"
      },
      "execution_count": null,
      "outputs": [
        {
          "output_type": "execute_result",
          "data": {
            "text/plain": [
              "'U'"
            ],
            "application/vnd.google.colaboratory.intrinsic+json": {
              "type": "string"
            }
          },
          "metadata": {},
          "execution_count": 6
        }
      ]
    },
    {
      "cell_type": "code",
      "source": [
        "len(title) #Calculates the length of the string"
      ],
      "metadata": {
        "colab": {
          "base_uri": "https://localhost:8080/"
        },
        "id": "aCtGsyIFedj8",
        "outputId": "95c90a47-89b1-4e52-89b9-73165af55fe4"
      },
      "execution_count": null,
      "outputs": [
        {
          "output_type": "execute_result",
          "data": {
            "text/plain": [
              "11"
            ]
          },
          "metadata": {},
          "execution_count": 7
        }
      ]
    },
    {
      "cell_type": "code",
      "source": [
        "title.split(\" \") #splits the string using the specified separator"
      ],
      "metadata": {
        "colab": {
          "base_uri": "https://localhost:8080/"
        },
        "id": "tcrrQnReenx6",
        "outputId": "6c25bdfc-887b-4376-a9db-8f4b18d3ee03"
      },
      "execution_count": null,
      "outputs": [
        {
          "output_type": "execute_result",
          "data": {
            "text/plain": [
              "['Us', 'and', 'them']"
            ]
          },
          "metadata": {},
          "execution_count": 8
        }
      ]
    },
    {
      "cell_type": "code",
      "source": [
        "type(title.split(\" \")) #The list after splitting the string"
      ],
      "metadata": {
        "colab": {
          "base_uri": "https://localhost:8080/"
        },
        "id": "9RSumW8QfQEY",
        "outputId": "6a1d4ba8-5f7f-4aae-f5cc-0e20cd6cb158"
      },
      "execution_count": null,
      "outputs": [
        {
          "output_type": "execute_result",
          "data": {
            "text/plain": [
              "list"
            ]
          },
          "metadata": {},
          "execution_count": 12
        }
      ]
    },
    {
      "cell_type": "code",
      "source": [
        "':'.join(['A','B','C']) #converts the list into a string"
      ],
      "metadata": {
        "colab": {
          "base_uri": "https://localhost:8080/",
          "height": 36
        },
        "id": "wv07Bqmqe4P0",
        "outputId": "1c11e384-e419-4ec6-c2ce-840d29e6fffb"
      },
      "execution_count": null,
      "outputs": [
        {
          "output_type": "execute_result",
          "data": {
            "text/plain": [
              "'A:B:C'"
            ],
            "application/vnd.google.colaboratory.intrinsic+json": {
              "type": "string"
            }
          },
          "metadata": {},
          "execution_count": 10
        }
      ]
    },
    {
      "cell_type": "code",
      "source": [
        "type(':'.join(['A','B','C']))"
      ],
      "metadata": {
        "colab": {
          "base_uri": "https://localhost:8080/"
        },
        "id": "seEPTdC-fUe2",
        "outputId": "3b5bf7d9-dd38-4b88-ce34-1064261ce320"
      },
      "execution_count": null,
      "outputs": [
        {
          "output_type": "execute_result",
          "data": {
            "text/plain": [
              "str"
            ]
          },
          "metadata": {},
          "execution_count": 13
        }
      ]
    },
    {
      "cell_type": "code",
      "source": [
        "nine=str(9)\n",
        "nine #changes the integer into string type"
      ],
      "metadata": {
        "colab": {
          "base_uri": "https://localhost:8080/",
          "height": 36
        },
        "id": "AWewmD4jfBJ_",
        "outputId": "54cf3e9f-98ff-4189-bc13-59bafded1741"
      },
      "execution_count": null,
      "outputs": [
        {
          "output_type": "execute_result",
          "data": {
            "text/plain": [
              "'9'"
            ],
            "application/vnd.google.colaboratory.intrinsic+json": {
              "type": "string"
            }
          },
          "metadata": {},
          "execution_count": 16
        }
      ]
    },
    {
      "cell_type": "code",
      "source": [
        "title.replace('them','us') #replaces specific words with other words"
      ],
      "metadata": {
        "colab": {
          "base_uri": "https://localhost:8080/",
          "height": 36
        },
        "id": "2NtAj1w_fM5U",
        "outputId": "677d1826-27ac-4d04-ce87-a94789412c35"
      },
      "execution_count": null,
      "outputs": [
        {
          "output_type": "execute_result",
          "data": {
            "text/plain": [
              "'Us and us'"
            ],
            "application/vnd.google.colaboratory.intrinsic+json": {
              "type": "string"
            }
          },
          "metadata": {},
          "execution_count": 17
        }
      ]
    },
    {
      "cell_type": "markdown",
      "source": [
        "####Dictionaries"
      ],
      "metadata": {
        "id": "TbUiN9y2gDYN"
      }
    },
    {
      "cell_type": "code",
      "source": [
        "votes ={'red':3,\"blue\":5} #creating  a dictionary"
      ],
      "metadata": {
        "id": "PseqUwVsfu0L"
      },
      "execution_count": null,
      "outputs": []
    },
    {
      "cell_type": "code",
      "source": [
        "type(votes)"
      ],
      "metadata": {
        "colab": {
          "base_uri": "https://localhost:8080/"
        },
        "id": "HUhK-jAbgNQu",
        "outputId": "0712c56a-1b11-4350-84c7-b1c4c4f6a102"
      },
      "execution_count": null,
      "outputs": [
        {
          "output_type": "execute_result",
          "data": {
            "text/plain": [
              "dict"
            ]
          },
          "metadata": {},
          "execution_count": 19
        }
      ]
    },
    {
      "cell_type": "code",
      "source": [
        "votes.keys() #gives the keys of the dictionary"
      ],
      "metadata": {
        "colab": {
          "base_uri": "https://localhost:8080/"
        },
        "id": "QrilsBdhgOqS",
        "outputId": "3e01e975-d4b6-427c-e63a-d1216358a9f9"
      },
      "execution_count": null,
      "outputs": [
        {
          "output_type": "execute_result",
          "data": {
            "text/plain": [
              "dict_keys(['red', 'blue'])"
            ]
          },
          "metadata": {},
          "execution_count": 20
        }
      ]
    },
    {
      "cell_type": "code",
      "source": [
        "votes.values() #gives the values of the dictionary"
      ],
      "metadata": {
        "colab": {
          "base_uri": "https://localhost:8080/"
        },
        "id": "4M6p8BCMgZvG",
        "outputId": "e6b05b6e-3c9a-4106-89d7-091c1d1f1c61"
      },
      "execution_count": null,
      "outputs": [
        {
          "output_type": "execute_result",
          "data": {
            "text/plain": [
              "dict_values([3, 5])"
            ]
          },
          "metadata": {},
          "execution_count": 21
        }
      ]
    },
    {
      "cell_type": "code",
      "source": [
        "votes['gold']= 4 #adds a key value pair to the dictionary"
      ],
      "metadata": {
        "id": "BRvj5l3agf_r"
      },
      "execution_count": null,
      "outputs": []
    },
    {
      "cell_type": "code",
      "source": [
        "votes"
      ],
      "metadata": {
        "colab": {
          "base_uri": "https://localhost:8080/"
        },
        "id": "f2D6XSKFgplL",
        "outputId": "35faf904-001e-46e1-9c29-0c6ccaacc576"
      },
      "execution_count": null,
      "outputs": [
        {
          "output_type": "execute_result",
          "data": {
            "text/plain": [
              "{'red': 3, 'blue': 5, 'gold': 4}"
            ]
          },
          "metadata": {},
          "execution_count": 23
        }
      ]
    },
    {
      "cell_type": "code",
      "source": [
        "del votes['gold'] #deletes the key"
      ],
      "metadata": {
        "id": "Ey1-R79qgq1r"
      },
      "execution_count": null,
      "outputs": []
    },
    {
      "cell_type": "code",
      "source": [
        "votes['blue']=6 #changing the value of the key"
      ],
      "metadata": {
        "id": "0l4Wcq1zgx-f"
      },
      "execution_count": null,
      "outputs": []
    },
    {
      "cell_type": "code",
      "source": [
        "len(votes)"
      ],
      "metadata": {
        "colab": {
          "base_uri": "https://localhost:8080/"
        },
        "id": "DTX9gS2qg4X_",
        "outputId": "493e2ac2-11da-466a-c5ac-f4145ad6626a"
      },
      "execution_count": null,
      "outputs": [
        {
          "output_type": "execute_result",
          "data": {
            "text/plain": [
              "2"
            ]
          },
          "metadata": {},
          "execution_count": 26
        }
      ]
    },
    {
      "cell_type": "code",
      "source": [
        "'green' in votes #checks for the key in the dictionary"
      ],
      "metadata": {
        "colab": {
          "base_uri": "https://localhost:8080/"
        },
        "id": "xoIPVZaIg6g_",
        "outputId": "9a326b07-17fe-462f-9afb-bc03307b6152"
      },
      "execution_count": null,
      "outputs": [
        {
          "output_type": "execute_result",
          "data": {
            "text/plain": [
              "False"
            ]
          },
          "metadata": {},
          "execution_count": 27
        }
      ]
    },
    {
      "cell_type": "code",
      "source": [
        "votes.has_key('red') #checking if a key exists in the dictionary"
      ],
      "metadata": {
        "id": "egLpBvRkhE4p"
      },
      "execution_count": null,
      "outputs": []
    },
    {
      "cell_type": "code",
      "source": [
        "#he has_key() method was removed in Python 3. To check if a key exists in a dictionary in Python 3, you can use the in operator. For example:\n",
        "if 'red' in votes:\n",
        "   print('Red has 10 votes.')"
      ],
      "metadata": {
        "colab": {
          "base_uri": "https://localhost:8080/"
        },
        "id": "VQb33HfdhYXc",
        "outputId": "e292bd69-3ab2-4b0a-a4be-864b0353c3a5"
      },
      "execution_count": null,
      "outputs": [
        {
          "output_type": "stream",
          "name": "stdout",
          "text": [
            "Red has 10 votes.\n"
          ]
        }
      ]
    },
    {
      "cell_type": "markdown",
      "source": [
        "####NUMBERS"
      ],
      "metadata": {
        "id": "TBZZ5AVohfL5"
      }
    },
    {
      "cell_type": "code",
      "source": [
        "total = 3*3 #Multiplication\n",
        "total"
      ],
      "metadata": {
        "colab": {
          "base_uri": "https://localhost:8080/"
        },
        "id": "99N_lRknhNSf",
        "outputId": "c851e528-4074-4d8f-fc57-96f0a2b0f6f6"
      },
      "execution_count": null,
      "outputs": [
        {
          "output_type": "execute_result",
          "data": {
            "text/plain": [
              "9"
            ]
          },
          "metadata": {},
          "execution_count": 31
        }
      ]
    },
    {
      "cell_type": "code",
      "source": [
        "total =5+2*3\n",
        "total"
      ],
      "metadata": {
        "colab": {
          "base_uri": "https://localhost:8080/"
        },
        "id": "yhsk3QJRhjFe",
        "outputId": "18ff8ab2-6551-45e7-d8b3-83081e94abbd"
      },
      "execution_count": null,
      "outputs": [
        {
          "output_type": "execute_result",
          "data": {
            "text/plain": [
              "11"
            ]
          },
          "metadata": {},
          "execution_count": 32
        }
      ]
    },
    {
      "cell_type": "code",
      "source": [
        "amt= 1.50 +3.75 +5.36+23.65\n",
        "amt"
      ],
      "metadata": {
        "colab": {
          "base_uri": "https://localhost:8080/"
        },
        "id": "ZFWz0PgUhr9W",
        "outputId": "5a533cf8-29ec-443c-edaa-293be5dccd58"
      },
      "execution_count": null,
      "outputs": [
        {
          "output_type": "execute_result",
          "data": {
            "text/plain": [
              "34.26"
            ]
          },
          "metadata": {},
          "execution_count": 34
        }
      ]
    },
    {
      "cell_type": "markdown",
      "source": [
        "####TUPLES"
      ],
      "metadata": {
        "id": "l8bmNu4TiyEl"
      }
    },
    {
      "cell_type": "markdown",
      "source": [
        "They are like lists but they cannot be changed"
      ],
      "metadata": {
        "id": "kD8Vpou8i1B7"
      }
    },
    {
      "cell_type": "code",
      "source": [
        "tup1 =(1,2,3,4,\"a\",\"z\",\"pp\") #Creating a tuple"
      ],
      "metadata": {
        "id": "4mZxitCIh5K2"
      },
      "execution_count": null,
      "outputs": []
    },
    {
      "cell_type": "code",
      "source": [
        "tup1[4] #Extracting a character"
      ],
      "metadata": {
        "colab": {
          "base_uri": "https://localhost:8080/",
          "height": 36
        },
        "id": "7Gni_BqrjCmS",
        "outputId": "f552e508-a296-41e8-aede-103a8dea017e"
      },
      "execution_count": null,
      "outputs": [
        {
          "output_type": "execute_result",
          "data": {
            "text/plain": [
              "'a'"
            ],
            "application/vnd.google.colaboratory.intrinsic+json": {
              "type": "string"
            }
          },
          "metadata": {},
          "execution_count": 39
        }
      ]
    },
    {
      "cell_type": "markdown",
      "source": [
        "####LISTS"
      ],
      "metadata": {
        "id": "PT9e0FVojTz2"
      }
    },
    {
      "cell_type": "code",
      "source": [
        "scores=['A','C','D','C',90,75] #creating a list"
      ],
      "metadata": {
        "id": "ICkPniqbjGQW"
      },
      "execution_count": null,
      "outputs": []
    },
    {
      "cell_type": "code",
      "source": [
        "scores[0] #extracting through index"
      ],
      "metadata": {
        "colab": {
          "base_uri": "https://localhost:8080/",
          "height": 36
        },
        "id": "XDOy0HpjjfFQ",
        "outputId": "8417de51-1fb0-4e2b-bb77-fe0d76d07435"
      },
      "execution_count": null,
      "outputs": [
        {
          "output_type": "execute_result",
          "data": {
            "text/plain": [
              "'A'"
            ],
            "application/vnd.google.colaboratory.intrinsic+json": {
              "type": "string"
            }
          },
          "metadata": {},
          "execution_count": 46
        }
      ]
    },
    {
      "cell_type": "code",
      "source": [
        "scores[1:3] #extracting through slicing"
      ],
      "metadata": {
        "colab": {
          "base_uri": "https://localhost:8080/"
        },
        "id": "xp7bgcdLjkvq",
        "outputId": "9aaeb7fe-30e5-48c0-8c79-698611135348"
      },
      "execution_count": null,
      "outputs": [
        {
          "output_type": "execute_result",
          "data": {
            "text/plain": [
              "['C', 'D']"
            ]
          },
          "metadata": {},
          "execution_count": 47
        }
      ]
    },
    {
      "cell_type": "code",
      "source": [
        "scores.count('C') #counting the number of occurances"
      ],
      "metadata": {
        "colab": {
          "base_uri": "https://localhost:8080/"
        },
        "id": "Ri3hRNlQjmG2",
        "outputId": "bab214cd-908f-4ab5-90d0-8dd65052671e"
      },
      "execution_count": null,
      "outputs": [
        {
          "output_type": "execute_result",
          "data": {
            "text/plain": [
              "2"
            ]
          },
          "metadata": {},
          "execution_count": 48
        }
      ]
    },
    {
      "cell_type": "code",
      "source": [
        "scores.append(100) #adds an item to the list"
      ],
      "metadata": {
        "id": "OIl7wCfPjpB4"
      },
      "execution_count": null,
      "outputs": []
    },
    {
      "cell_type": "code",
      "source": [
        "scores"
      ],
      "metadata": {
        "colab": {
          "base_uri": "https://localhost:8080/"
        },
        "id": "3fNYgmh_lp6l",
        "outputId": "a2117315-2bb3-4c28-b29e-0a36c71b2ab5"
      },
      "execution_count": null,
      "outputs": [
        {
          "output_type": "execute_result",
          "data": {
            "text/plain": [
              "['A', 'C', 'D', 'C', 90, 75, 100]"
            ]
          },
          "metadata": {},
          "execution_count": 50
        }
      ]
    },
    {
      "cell_type": "code",
      "source": [
        "scores.pop() #removes the last item"
      ],
      "metadata": {
        "colab": {
          "base_uri": "https://localhost:8080/"
        },
        "id": "eQ5rHAXoliLz",
        "outputId": "4a6b74e0-84c1-4f0e-e95e-543c2ddb8feb"
      },
      "execution_count": null,
      "outputs": [
        {
          "output_type": "execute_result",
          "data": {
            "text/plain": [
              "100"
            ]
          },
          "metadata": {},
          "execution_count": 51
        }
      ]
    },
    {
      "cell_type": "code",
      "source": [
        "scores"
      ],
      "metadata": {
        "colab": {
          "base_uri": "https://localhost:8080/"
        },
        "id": "ggWSQwj0ls-A",
        "outputId": "6d3cc79a-d45a-425c-f0ee-3d87a5f514d3"
      },
      "execution_count": null,
      "outputs": [
        {
          "output_type": "execute_result",
          "data": {
            "text/plain": [
              "['A', 'C', 'D', 'C', 90, 75]"
            ]
          },
          "metadata": {},
          "execution_count": 52
        }
      ]
    },
    {
      "cell_type": "markdown",
      "source": [
        "#PYTHON OOPS CONCEPTS"
      ],
      "metadata": {
        "id": "NPH7Hdrll0Iu"
      }
    },
    {
      "cell_type": "markdown",
      "source": [
        "####Object oriented Programming\n",
        "\n",
        "python is a multiparadigm programming language. It supports different programming approaches.\n",
        "\n",
        "One of the most popular approaches to solve programming problem by creating objects. This is known as object oriented programming. (OOP)\n",
        "\n",
        "OOP has 2 characteristics\n",
        "1. Attributes\n",
        "2. Behavior\n",
        "\n",
        "Example:\n",
        "A parrot is an object and it has the following properties\n",
        "* name,age, color as attributes\n",
        "* singing, dancing, as behavior\n",
        "\n",
        "The concepts of OOPs in python focuses on creating reusable code. This concept is also known as DRY (dont Repeat yourself)\n",
        "\n"
      ],
      "metadata": {
        "id": "TDA0rNDYl4Di"
      }
    },
    {
      "cell_type": "markdown",
      "source": [
        "####CLASS\n",
        "\n",
        "A class is  a blueprint for the object. we can think of class as a sketch of parrot eith labels. It contains all the details about the name, colors, size etc\n"
      ],
      "metadata": {
        "id": "ZWzqWLw7m5MG"
      }
    },
    {
      "cell_type": "code",
      "source": [
        "class Parrot:\n",
        "  pass"
      ],
      "metadata": {
        "id": "mgfECPSlltmF"
      },
      "execution_count": null,
      "outputs": []
    },
    {
      "cell_type": "markdown",
      "source": [
        "Here class keyword define an empty class parrot. From the class, we construct instances (-). An instance is a specific object created from a purticular class"
      ],
      "metadata": {
        "id": "TrZ88KtMnPHY"
      }
    },
    {
      "cell_type": "markdown",
      "source": [
        "####OBJECT\n",
        "\n",
        "an object (instance) is an instantiation of a class. When class is defined only the decription for the class object is defined. Therefor, no memory or storage is allocated."
      ],
      "metadata": {
        "id": "YI3P5eZ-nv0a"
      }
    },
    {
      "cell_type": "code",
      "source": [
        "Obj = Parrot()"
      ],
      "metadata": {
        "id": "wqOQsJiNnN0R"
      },
      "execution_count": null,
      "outputs": []
    },
    {
      "cell_type": "markdown",
      "source": [
        "Here Obj is an object of class parrot\n",
        "\n",
        "Suppose we have details of parrots. Now we are going to show how to build the class and objects of parrots. We can access the class attribute using class_species"
      ],
      "metadata": {
        "id": "BH9ALSAFoKKR"
      }
    },
    {
      "cell_type": "markdown",
      "source": [
        "####INHERITANCE\n",
        "\n",
        "Inheritance is a way of creating newc lass for using details of an existing class without modifying it. The newly formed class is derived class, similarly the existing class is the base class"
      ],
      "metadata": {
        "id": "jhBM4C-AooOQ"
      }
    },
    {
      "cell_type": "code",
      "source": [
        "#use of inheritance in python\n",
        "class Bird:\n",
        "  def _init_(self):\n",
        "    print(\"Bird is ready\")\n",
        "  def swim(self):\n",
        "    print(\"swim faster\")\n",
        "\n",
        "class Penguin(Bird):\n",
        "  def _init(self):\n",
        "    super()._init_()\n",
        "  def run(self):\n",
        "    print(\"run fast\")\n",
        "\n",
        "P = Penguin()\n",
        "P.swim()\n",
        "P.run()"
      ],
      "metadata": {
        "colab": {
          "base_uri": "https://localhost:8080/"
        },
        "id": "oEaZJ6ctoJX4",
        "outputId": "101e7e2c-355b-4875-95a4-25dbd93d8944"
      },
      "execution_count": null,
      "outputs": [
        {
          "output_type": "stream",
          "name": "stdout",
          "text": [
            "swim faster\n",
            "run fast\n"
          ]
        }
      ]
    },
    {
      "cell_type": "markdown",
      "source": [
        "We can use the super() function inside the _init_() method. This allows us to run _init_() method"
      ],
      "metadata": {
        "id": "PpE6L4sBp_Kz"
      }
    },
    {
      "cell_type": "markdown",
      "source": [
        "####ENCAPSULATION"
      ],
      "metadata": {
        "id": "mBhfKn7RqJbC"
      }
    },
    {
      "cell_type": "markdown",
      "source": [
        "Using OOP in python, we can restrict access to methods and variables. This prevents data from direct modification which is called encapsualtion. In python, we can donate private attribute using _ as the prefic, i.e, single _ or double __"
      ],
      "metadata": {
        "id": "Ihzj5ubFqNRg"
      }
    },
    {
      "cell_type": "code",
      "source": [
        "class computer:\n",
        "  def __init__(self):\n",
        "    self.___maxprice=900\n",
        "  def setmaxprice(self,Price):\n",
        "    self.__maxprice = Price\n",
        "\n",
        "C=computer()\n",
        "C.__maxprice=1000\n",
        "C.setmaxprice(100)"
      ],
      "metadata": {
        "id": "yi6B-JKOp4-d"
      },
      "execution_count": null,
      "outputs": []
    },
    {
      "cell_type": "markdown",
      "source": [
        "We used _init__() method to store the maximum setting price of computer"
      ],
      "metadata": {
        "id": "X6taH0450s8N"
      }
    },
    {
      "cell_type": "markdown",
      "source": [
        "<table border=\"1\">\n",
        "  <tr>\n",
        "    <th>Class Member Access Specifier</th>\n",
        "    <th>Access from own class</th>\n",
        "    <th>Accessible from derived</th>\n",
        "    <th>Accessible from object </th>\n",
        "  </tr>\n",
        "  <tr>\n",
        "    <td>Private</td>\n",
        "    <td>Yes</td>\n",
        "    <td>No</td>\n",
        "    <td>No</td>\n",
        "  </tr>\n",
        "  <tr>\n",
        "    <td>Protected</td>\n",
        "    <td>Yes</td>\n",
        "    <td>Yes</td>\n",
        "    <td>No</td>\n",
        "  </tr>\n",
        "  <tr>\n",
        "    <td>Public</td>\n",
        "    <td>Yes</td>\n",
        "    <td>Yes</td>\n",
        "    <td>Yes</td>\n",
        "  </tr>\n",
        "</table>"
      ],
      "metadata": {
        "id": "hpf9rDi007GY"
      }
    },
    {
      "cell_type": "markdown",
      "source": [
        "####POLYMORPHISM\n",
        "\n",
        "Polymorphism is an ability to use a common interface for multiple forms (data types). Polymorphism in pyhton defines methods in the child class that have the same name as the method in the parent class. It is passive to modify a method in a child class that it has inherited from child class, parent class"
      ],
      "metadata": {
        "id": "xbP-ohxz16S_"
      }
    },
    {
      "cell_type": "code",
      "source": [
        "class parrot:\n",
        "  def fly(self):\n",
        "    print(\"Parrot can fly\")\n",
        "  def swim(self):\n",
        "    print(\"Parrot cannot swim\")\n",
        "\n",
        "class penguin:\n",
        "  def fly(self):\n",
        "    print(\"Penguins cant fly\")\n",
        "  def swim(self):\n",
        "    print(\"Penguins can swim\")\n",
        "\n",
        "def flying_test(bird):\n",
        "  bird.fly()\n",
        "\n",
        "blue=parrot()\n",
        "peg= penguin()\n",
        "\n",
        "flying_test(blue)\n",
        "flying_test(peg)"
      ],
      "metadata": {
        "colab": {
          "base_uri": "https://localhost:8080/"
        },
        "id": "2wbSKi1EqmyD",
        "outputId": "a629388f-76d2-46e2-8da5-f7c411863d3c"
      },
      "execution_count": null,
      "outputs": [
        {
          "output_type": "stream",
          "name": "stdout",
          "text": [
            "Parrot can fly\n",
            "Penguins cant fly\n"
          ]
        }
      ]
    },
    {
      "cell_type": "markdown",
      "source": [
        "#PYTHON FUNCTIONS"
      ],
      "metadata": {
        "id": "git4esZP3RsB"
      }
    },
    {
      "cell_type": "markdown",
      "source": [
        "####What are functions?\n",
        "\n",
        "A function is a block of code only runs when its called. In python, a function is defined using the def keyword."
      ],
      "metadata": {
        "id": "OmCoE-re3VHP"
      }
    },
    {
      "cell_type": "code",
      "source": [
        "def my_func():\n",
        "  print(\"Hello\")"
      ],
      "metadata": {
        "id": "H6M4wFo425ag"
      },
      "execution_count": null,
      "outputs": []
    },
    {
      "cell_type": "markdown",
      "source": [
        "####Arguments in a Function\n",
        "\n",
        "Arguments are specified after the function name, inside the paranthesis.\n",
        "You can add as many arguments as you want to separate them with a comma"
      ],
      "metadata": {
        "id": "tddQkpcj3nvK"
      }
    },
    {
      "cell_type": "code",
      "source": [
        "def my_function(fname):\n",
        "  print(fname + \"Truman\")\n",
        "\n",
        "my_function(\"Emil \")\n",
        "my_function(\"Tobias \")\n",
        "my_function(\"Maria \")"
      ],
      "metadata": {
        "colab": {
          "base_uri": "https://localhost:8080/"
        },
        "id": "XeYlyr3x3mbu",
        "outputId": "2c01db5b-f10c-49ac-bc5d-a3c920b7585e"
      },
      "execution_count": null,
      "outputs": [
        {
          "output_type": "stream",
          "name": "stdout",
          "text": [
            "Emil Truman\n",
            "Tobias Truman\n",
            "Maria Truman\n"
          ]
        }
      ]
    },
    {
      "cell_type": "markdown",
      "source": [
        "####Arbitary arguments\n",
        "\n",
        "If you do not know how many arguments that will be passed into your function, add a * before the parameter name in the function definition."
      ],
      "metadata": {
        "id": "X0XbPARD4OU0"
      }
    },
    {
      "cell_type": "code",
      "source": [
        "def my_function(*kids):\n",
        "  print(\"The youngest child is \" + kids[2])\n",
        "\n",
        "my_function(\"sou1\",\"Amy\",\"trixie\")"
      ],
      "metadata": {
        "colab": {
          "base_uri": "https://localhost:8080/"
        },
        "id": "sydLeZzl4NAZ",
        "outputId": "2748a78f-0703-4c3f-d36c-3766212f72f6"
      },
      "execution_count": null,
      "outputs": [
        {
          "output_type": "stream",
          "name": "stdout",
          "text": [
            "The youngest child is trixie\n"
          ]
        }
      ]
    },
    {
      "cell_type": "markdown",
      "source": [
        "####Keyword Arguments (kwargs)\n",
        "\n",
        "you can also send arguments with the key=value syntax"
      ],
      "metadata": {
        "id": "3Gmvgtg752RI"
      }
    },
    {
      "cell_type": "code",
      "source": [
        "def my_function(child3,child2,child1):\n",
        "  print(\"The younger child is \" + child3)\n",
        "\n",
        "my_function(child1=\"MCB\", child2=\"BCC\", child3=\"BTC\")"
      ],
      "metadata": {
        "colab": {
          "base_uri": "https://localhost:8080/"
        },
        "id": "vB63lRzb5_8F",
        "outputId": "c08f4959-9ef3-454d-dcb7-936ac76874bc"
      },
      "execution_count": null,
      "outputs": [
        {
          "output_type": "stream",
          "name": "stdout",
          "text": [
            "The younger child is BTC\n"
          ]
        }
      ]
    },
    {
      "cell_type": "markdown",
      "source": [
        "####Arbitary Keyword Arguments\n",
        "\n",
        "If you do not know how many keyword arguments that will be passed nto your function, add two astricks; ** before the parameter name in the function definition\n"
      ],
      "metadata": {
        "id": "HccxVnlh44ZK"
      }
    },
    {
      "cell_type": "code",
      "source": [
        "def my_function(**kid):\n",
        "  print(\"His last name is \"+ kid[\"name\"])\n",
        "\n",
        "my_function(fname=\"Trixie\", name=\"Truman\")"
      ],
      "metadata": {
        "colab": {
          "base_uri": "https://localhost:8080/"
        },
        "id": "kTAXMaHt414o",
        "outputId": "4ae8e2e3-bf86-40d0-e245-634c4d1dd9d4"
      },
      "execution_count": null,
      "outputs": [
        {
          "output_type": "stream",
          "name": "stdout",
          "text": [
            "His last name is Truman\n"
          ]
        }
      ]
    },
    {
      "cell_type": "markdown",
      "source": [
        "#PYTHON OPERATORS"
      ],
      "metadata": {
        "id": "FBSPTApp6XTo"
      }
    },
    {
      "cell_type": "markdown",
      "source": [
        "####Arithmetic Operators\n",
        "\n",
        "An arithmetic operator performs mathematical operations like addition, subtraction, division, and multiplication"
      ],
      "metadata": {
        "id": "fhLnrrR16cdK"
      }
    },
    {
      "cell_type": "code",
      "source": [
        "5+4  # + --> Adds operands"
      ],
      "metadata": {
        "colab": {
          "base_uri": "https://localhost:8080/"
        },
        "id": "39U_mLqH5bvx",
        "outputId": "105044d3-9536-4810-8a0d-727e4f16aaff"
      },
      "execution_count": null,
      "outputs": [
        {
          "output_type": "execute_result",
          "data": {
            "text/plain": [
              "9"
            ]
          },
          "metadata": {},
          "execution_count": 75
        }
      ]
    },
    {
      "cell_type": "code",
      "source": [
        "6-4 # - --> subtacts operands"
      ],
      "metadata": {
        "colab": {
          "base_uri": "https://localhost:8080/"
        },
        "id": "eQ1Db-LS7UxI",
        "outputId": "cebeebd9-ef13-43c5-dbf3-d7e8ef877efe"
      },
      "execution_count": null,
      "outputs": [
        {
          "output_type": "execute_result",
          "data": {
            "text/plain": [
              "2"
            ]
          },
          "metadata": {},
          "execution_count": 78
        }
      ]
    },
    {
      "cell_type": "code",
      "source": [
        "5*4*2  # * --> multiplies operands"
      ],
      "metadata": {
        "colab": {
          "base_uri": "https://localhost:8080/"
        },
        "id": "MsDiI-Qc7YzL",
        "outputId": "0db9e4d5-cecc-47f2-9a15-f9d732fff70b"
      },
      "execution_count": null,
      "outputs": [
        {
          "output_type": "execute_result",
          "data": {
            "text/plain": [
              "40"
            ]
          },
          "metadata": {},
          "execution_count": 79
        }
      ]
    },
    {
      "cell_type": "code",
      "source": [
        "5/2 # / divide the left operand by the right operand"
      ],
      "metadata": {
        "colab": {
          "base_uri": "https://localhost:8080/"
        },
        "id": "iyhkmlBl7dWi",
        "outputId": "a3682977-b0a5-49fc-fa4c-bfde21ddb8cf"
      },
      "execution_count": null,
      "outputs": [
        {
          "output_type": "execute_result",
          "data": {
            "text/plain": [
              "2.5"
            ]
          },
          "metadata": {},
          "execution_count": 80
        }
      ]
    },
    {
      "cell_type": "code",
      "source": [
        "5%3 # which will give the remainder"
      ],
      "metadata": {
        "colab": {
          "base_uri": "https://localhost:8080/"
        },
        "id": "lPTEwIEW7uid",
        "outputId": "7237b9fc-a6b1-48f8-d064-e80c1ad7a897"
      },
      "execution_count": null,
      "outputs": [
        {
          "output_type": "execute_result",
          "data": {
            "text/plain": [
              "2"
            ]
          },
          "metadata": {},
          "execution_count": 81
        }
      ]
    },
    {
      "cell_type": "code",
      "source": [
        "5//3 #which will give the integer part"
      ],
      "metadata": {
        "colab": {
          "base_uri": "https://localhost:8080/"
        },
        "id": "j8uJrof972FA",
        "outputId": "5a603c41-fac0-4b7a-95f5-a7754ebd8137"
      },
      "execution_count": null,
      "outputs": [
        {
          "output_type": "execute_result",
          "data": {
            "text/plain": [
              "1"
            ]
          },
          "metadata": {},
          "execution_count": 82
        }
      ]
    },
    {
      "cell_type": "code",
      "source": [
        "5**3 #raised to the power"
      ],
      "metadata": {
        "colab": {
          "base_uri": "https://localhost:8080/"
        },
        "id": "fModTTe-76Vs",
        "outputId": "72eab51a-b4f6-44d6-a01f-f1edb5211d7f"
      },
      "execution_count": null,
      "outputs": [
        {
          "output_type": "execute_result",
          "data": {
            "text/plain": [
              "125"
            ]
          },
          "metadata": {},
          "execution_count": 83
        }
      ]
    },
    {
      "cell_type": "markdown",
      "source": [
        "####Comparison Operators"
      ],
      "metadata": {
        "id": "QI3OSi6k8Df4"
      }
    },
    {
      "cell_type": "code",
      "source": [
        "# == : If two operand values are equal then the condition becomes true\n",
        "5 == 3"
      ],
      "metadata": {
        "colab": {
          "base_uri": "https://localhost:8080/"
        },
        "id": "0P6uULzN8B2w",
        "outputId": "699ebbf5-6798-4984-b501-ec7faccbfe33"
      },
      "execution_count": null,
      "outputs": [
        {
          "output_type": "execute_result",
          "data": {
            "text/plain": [
              "False"
            ]
          },
          "metadata": {},
          "execution_count": 84
        }
      ]
    },
    {
      "cell_type": "code",
      "source": [
        "# != : Values of two operands are not equal, then condition becomes true\n",
        "5!=3"
      ],
      "metadata": {
        "colab": {
          "base_uri": "https://localhost:8080/"
        },
        "id": "cjO-zTbd8RCb",
        "outputId": "195f59a0-3c2c-4685-b6fe-b44d9ddad449"
      },
      "execution_count": null,
      "outputs": [
        {
          "output_type": "execute_result",
          "data": {
            "text/plain": [
              "True"
            ]
          },
          "metadata": {},
          "execution_count": 85
        }
      ]
    },
    {
      "cell_type": "code",
      "source": [
        "# > : If the value of the left operand is greater than the value of right operand, then condition becomes true\n",
        "6>4"
      ],
      "metadata": {
        "colab": {
          "base_uri": "https://localhost:8080/"
        },
        "id": "kbxKh5iU8asY",
        "outputId": "2c811d9c-367c-45fc-f314-23ca187166b0"
      },
      "execution_count": null,
      "outputs": [
        {
          "output_type": "execute_result",
          "data": {
            "text/plain": [
              "True"
            ]
          },
          "metadata": {},
          "execution_count": 90
        }
      ]
    },
    {
      "cell_type": "code",
      "source": [
        "# < : if the value of the left operand is less than the value of the right operand, then condition becomes true\n",
        "5<4"
      ],
      "metadata": {
        "colab": {
          "base_uri": "https://localhost:8080/"
        },
        "id": "4jgNVdyl8m6N",
        "outputId": "737269bc-ef04-4d7a-916e-ebccf77b5f7e"
      },
      "execution_count": null,
      "outputs": [
        {
          "output_type": "execute_result",
          "data": {
            "text/plain": [
              "False"
            ]
          },
          "metadata": {},
          "execution_count": 89
        }
      ]
    },
    {
      "cell_type": "code",
      "source": [
        "# >= : greater than or equal to; If the vlaue of the left operand is greater than or equal to the value of the right operand, then condition becomes true\n",
        "5>=6"
      ],
      "metadata": {
        "colab": {
          "base_uri": "https://localhost:8080/"
        },
        "id": "sK60jhU980U9",
        "outputId": "31f5d01c-9458-4c3d-9f40-204a7180e800"
      },
      "execution_count": null,
      "outputs": [
        {
          "output_type": "execute_result",
          "data": {
            "text/plain": [
              "False"
            ]
          },
          "metadata": {},
          "execution_count": 91
        }
      ]
    },
    {
      "cell_type": "code",
      "source": [
        "# <= : left operand less than or equal to the right operand\n",
        "4<=6"
      ],
      "metadata": {
        "colab": {
          "base_uri": "https://localhost:8080/"
        },
        "id": "ev5hfG3G9TlL",
        "outputId": "55ba2bce-54e4-4e97-e5d0-7383f3da197e"
      },
      "execution_count": null,
      "outputs": [
        {
          "output_type": "execute_result",
          "data": {
            "text/plain": [
              "True"
            ]
          },
          "metadata": {},
          "execution_count": 92
        }
      ]
    },
    {
      "cell_type": "markdown",
      "source": [
        "####Logical Operators\n",
        "\n",
        "They are boolean expressions such as and, or , not\n",
        "\n",
        "It is just a conditional test that a reault is either true or false"
      ],
      "metadata": {
        "id": "tCkbtGSx9flv"
      }
    },
    {
      "cell_type": "code",
      "source": [
        "#And : It becomes TRUE when both the expressions are TRUE\n",
        "True and True"
      ],
      "metadata": {
        "colab": {
          "base_uri": "https://localhost:8080/"
        },
        "id": "d83PMbb29dNV",
        "outputId": "0de8571f-759c-4d04-ad09-d8a7222dae09"
      },
      "execution_count": null,
      "outputs": [
        {
          "output_type": "execute_result",
          "data": {
            "text/plain": [
              "True"
            ]
          },
          "metadata": {},
          "execution_count": 94
        }
      ]
    },
    {
      "cell_type": "code",
      "source": [
        "False and False"
      ],
      "metadata": {
        "colab": {
          "base_uri": "https://localhost:8080/"
        },
        "id": "uG8U0ZwC9vI_",
        "outputId": "b73ae099-5015-490c-980b-2354a4d3ae9b"
      },
      "execution_count": null,
      "outputs": [
        {
          "output_type": "execute_result",
          "data": {
            "text/plain": [
              "False"
            ]
          },
          "metadata": {},
          "execution_count": 95
        }
      ]
    },
    {
      "cell_type": "code",
      "source": [
        "#Or : It becomes TRUE, if either one of the expressions are TRUE\n",
        "True or True"
      ],
      "metadata": {
        "colab": {
          "base_uri": "https://localhost:8080/"
        },
        "id": "7w1s7Ugf95uY",
        "outputId": "4762b803-5ea8-46a9-97e5-4da0030e51af"
      },
      "execution_count": null,
      "outputs": [
        {
          "output_type": "execute_result",
          "data": {
            "text/plain": [
              "True"
            ]
          },
          "metadata": {},
          "execution_count": 96
        }
      ]
    },
    {
      "cell_type": "code",
      "source": [
        "True or False"
      ],
      "metadata": {
        "colab": {
          "base_uri": "https://localhost:8080/"
        },
        "id": "o9UTsX1t-DNn",
        "outputId": "982da951-fa8c-4940-ddb8-daeaeaf7ad78"
      },
      "execution_count": null,
      "outputs": [
        {
          "output_type": "execute_result",
          "data": {
            "text/plain": [
              "True"
            ]
          },
          "metadata": {},
          "execution_count": 97
        }
      ]
    },
    {
      "cell_type": "code",
      "source": [
        "False or False"
      ],
      "metadata": {
        "colab": {
          "base_uri": "https://localhost:8080/"
        },
        "id": "y3AWUVBp-F7k",
        "outputId": "130ec2bf-9a9a-41a6-ab60-537b7d0abc44"
      },
      "execution_count": null,
      "outputs": [
        {
          "output_type": "execute_result",
          "data": {
            "text/plain": [
              "False"
            ]
          },
          "metadata": {},
          "execution_count": 98
        }
      ]
    },
    {
      "cell_type": "code",
      "source": [
        "#Not : It is used to reverse the logical state of its operand\n",
        "not True"
      ],
      "metadata": {
        "colab": {
          "base_uri": "https://localhost:8080/"
        },
        "id": "boeKs1TA-EgM",
        "outputId": "38297b60-7759-47a3-df80-8e8f1aecf9ab"
      },
      "execution_count": null,
      "outputs": [
        {
          "output_type": "execute_result",
          "data": {
            "text/plain": [
              "False"
            ]
          },
          "metadata": {},
          "execution_count": 99
        }
      ]
    },
    {
      "cell_type": "code",
      "source": [
        "not False"
      ],
      "metadata": {
        "colab": {
          "base_uri": "https://localhost:8080/"
        },
        "id": "J90Vwtqp-QNg",
        "outputId": "a0722e6e-1361-4507-9155-fb68b7ec96ae"
      },
      "execution_count": null,
      "outputs": [
        {
          "output_type": "execute_result",
          "data": {
            "text/plain": [
              "True"
            ]
          },
          "metadata": {},
          "execution_count": 100
        }
      ]
    },
    {
      "cell_type": "markdown",
      "source": [
        "####Assignment Operators\n"
      ],
      "metadata": {
        "id": "D6KFUggT-SPP"
      }
    },
    {
      "cell_type": "code",
      "source": [
        "# = : Assigns values from right side operands to the left side operands\n",
        "x=20\n",
        "x"
      ],
      "metadata": {
        "colab": {
          "base_uri": "https://localhost:8080/"
        },
        "id": "TMYlXxPn-RH9",
        "outputId": "dcf6750f-8db6-49d2-f292-72f7385d6afb"
      },
      "execution_count": null,
      "outputs": [
        {
          "output_type": "execute_result",
          "data": {
            "text/plain": [
              "20"
            ]
          },
          "metadata": {},
          "execution_count": 121
        }
      ]
    },
    {
      "cell_type": "code",
      "source": [
        "# += : It adds right operand to the left operand and assign the result to the left operand\n",
        "x+=20\n",
        "x"
      ],
      "metadata": {
        "colab": {
          "base_uri": "https://localhost:8080/"
        },
        "id": "GnTQa9rq-cnc",
        "outputId": "5f3cebc8-3572-4e9b-80ff-6ed51584ed17"
      },
      "execution_count": null,
      "outputs": [
        {
          "output_type": "execute_result",
          "data": {
            "text/plain": [
              "40"
            ]
          },
          "metadata": {},
          "execution_count": 122
        }
      ]
    },
    {
      "cell_type": "code",
      "source": [
        "#-= : it subtracts right operand to the left operand and assign the result to the left operand\n",
        "x-=20\n",
        "x"
      ],
      "metadata": {
        "colab": {
          "base_uri": "https://localhost:8080/"
        },
        "id": "WpnJaotc-mtp",
        "outputId": "b4868e82-8dd5-45d7-bd29-a8720ba2e11f"
      },
      "execution_count": null,
      "outputs": [
        {
          "output_type": "execute_result",
          "data": {
            "text/plain": [
              "20"
            ]
          },
          "metadata": {},
          "execution_count": 123
        }
      ]
    },
    {
      "cell_type": "code",
      "source": [
        "# *= : It multiples right operand to the left operand and assign the result to the left operand\n",
        "x*=50\n",
        "x"
      ],
      "metadata": {
        "colab": {
          "base_uri": "https://localhost:8080/"
        },
        "id": "Tfh1FFGx-wkT",
        "outputId": "9040aa47-71ae-494f-afe5-a049efbcbb5e"
      },
      "execution_count": null,
      "outputs": [
        {
          "output_type": "execute_result",
          "data": {
            "text/plain": [
              "1000"
            ]
          },
          "metadata": {},
          "execution_count": 124
        }
      ]
    },
    {
      "cell_type": "code",
      "source": [
        "# /= : IT divides  right operand to the left operand and assign the result to the left operand\n",
        "x/=50\n",
        "x"
      ],
      "metadata": {
        "colab": {
          "base_uri": "https://localhost:8080/"
        },
        "id": "DiAz6NYg-3CN",
        "outputId": "90179ce5-3679-40ce-f51e-7b67c4c92d8f"
      },
      "execution_count": null,
      "outputs": [
        {
          "output_type": "execute_result",
          "data": {
            "text/plain": [
              "20.0"
            ]
          },
          "metadata": {},
          "execution_count": 125
        }
      ]
    },
    {
      "cell_type": "code",
      "source": [
        "# %= : It takes the modulus using two operands and assign the result to left operand\n",
        "x%=50\n",
        "x"
      ],
      "metadata": {
        "colab": {
          "base_uri": "https://localhost:8080/"
        },
        "id": "ssXqQmuB_B1c",
        "outputId": "fa9996d0-4ce7-432f-df8c-702a57c66660"
      },
      "execution_count": null,
      "outputs": [
        {
          "output_type": "execute_result",
          "data": {
            "text/plain": [
              "20.0"
            ]
          },
          "metadata": {},
          "execution_count": 126
        }
      ]
    },
    {
      "cell_type": "code",
      "source": [
        "# **= : performs exponential (power) calculations on the operators and assigns value to the left operand\n",
        "x**=50\n",
        "x"
      ],
      "metadata": {
        "colab": {
          "base_uri": "https://localhost:8080/"
        },
        "id": "04RgUNgz_Qne",
        "outputId": "082ea022-d446-4c1d-89bc-30dd2f3b4383"
      },
      "execution_count": null,
      "outputs": [
        {
          "output_type": "execute_result",
          "data": {
            "text/plain": [
              "1.125899906842624e+65"
            ]
          },
          "metadata": {},
          "execution_count": 127
        }
      ]
    },
    {
      "cell_type": "code",
      "source": [
        "# //= : It performs floor division on operators and assign value to the left operand\n",
        "x//=50\n",
        "x"
      ],
      "metadata": {
        "colab": {
          "base_uri": "https://localhost:8080/"
        },
        "id": "e-HafuIZ_q2j",
        "outputId": "4a7653df-b7eb-4f9a-b97e-a0bd19681849"
      },
      "execution_count": null,
      "outputs": [
        {
          "output_type": "execute_result",
          "data": {
            "text/plain": [
              "2.251799813685248e+63"
            ]
          },
          "metadata": {},
          "execution_count": 128
        }
      ]
    },
    {
      "cell_type": "markdown",
      "source": [
        "####Membership Operators"
      ],
      "metadata": {
        "id": "uOrkybv9Aodc"
      }
    },
    {
      "cell_type": "code",
      "source": [
        "# in : Evalautes to true, if it finds a variable in the specified sequence and false otherwise\n",
        "x=\"Python\"\n",
        "'p' in x"
      ],
      "metadata": {
        "colab": {
          "base_uri": "https://localhost:8080/"
        },
        "id": "FQryjrSP_88k",
        "outputId": "637b3030-7b27-40b8-a7cb-ed871c41dc1b"
      },
      "execution_count": null,
      "outputs": [
        {
          "output_type": "execute_result",
          "data": {
            "text/plain": [
              "False"
            ]
          },
          "metadata": {},
          "execution_count": 129
        }
      ]
    },
    {
      "cell_type": "code",
      "source": [
        "# not in : Evalautes to true, if it doesnt find a variable in the specified sequence and false otherwise\n",
        "x=\"Python\"\n",
        "'p' not in x"
      ],
      "metadata": {
        "colab": {
          "base_uri": "https://localhost:8080/"
        },
        "id": "sBEwfoVtBCAa",
        "outputId": "1a4e218d-8271-445e-e693-7a122b20f680"
      },
      "execution_count": null,
      "outputs": [
        {
          "output_type": "execute_result",
          "data": {
            "text/plain": [
              "True"
            ]
          },
          "metadata": {},
          "execution_count": 130
        }
      ]
    },
    {
      "cell_type": "markdown",
      "source": [
        "####Bitwise Operators\n"
      ],
      "metadata": {
        "id": "fDMXKOMuBNBB"
      }
    },
    {
      "cell_type": "code",
      "source": [
        "# & : Operator copies a bit to the result if it exists in both operands\n",
        "10&20"
      ],
      "metadata": {
        "id": "gtpSpgO0BMW1",
        "colab": {
          "base_uri": "https://localhost:8080/"
        },
        "outputId": "cb9625f7-db1d-4d56-f0f0-8fdec628d49f"
      },
      "execution_count": 1,
      "outputs": [
        {
          "output_type": "execute_result",
          "data": {
            "text/plain": [
              "0"
            ]
          },
          "metadata": {},
          "execution_count": 1
        }
      ]
    },
    {
      "cell_type": "code",
      "source": [
        "# | : Operator copies a bit to the result if it exists in either operands\n",
        "10|20"
      ],
      "metadata": {
        "colab": {
          "base_uri": "https://localhost:8080/"
        },
        "id": "Afo-pM7jmjLF",
        "outputId": "dd40d40f-9b3f-4dec-9e80-03f4d9173397"
      },
      "execution_count": 2,
      "outputs": [
        {
          "output_type": "execute_result",
          "data": {
            "text/plain": [
              "30"
            ]
          },
          "metadata": {},
          "execution_count": 2
        }
      ]
    },
    {
      "cell_type": "code",
      "source": [
        "# ^ : Operator copies a bit to the result if it is set in one operand and not both\n",
        "10^20"
      ],
      "metadata": {
        "colab": {
          "base_uri": "https://localhost:8080/"
        },
        "id": "ondfS9bqmqme",
        "outputId": "0706afd3-d024-4e42-e4a1-0eb601f674d6"
      },
      "execution_count": 3,
      "outputs": [
        {
          "output_type": "execute_result",
          "data": {
            "text/plain": [
              "30"
            ]
          },
          "metadata": {},
          "execution_count": 3
        }
      ]
    },
    {
      "cell_type": "code",
      "source": [
        "# ~ : it is unary and has the effect of flipping bits\n",
        "~20"
      ],
      "metadata": {
        "colab": {
          "base_uri": "https://localhost:8080/"
        },
        "id": "V9uAL0knmzzV",
        "outputId": "91b5e4f6-c9ac-47a7-da1b-8263bdb5898b"
      },
      "execution_count": 5,
      "outputs": [
        {
          "output_type": "execute_result",
          "data": {
            "text/plain": [
              "-21"
            ]
          },
          "metadata": {},
          "execution_count": 5
        }
      ]
    },
    {
      "cell_type": "code",
      "source": [
        "# << : The left operands value is moved left by the number of bits specified by the right operand.\n",
        "10<<2"
      ],
      "metadata": {
        "colab": {
          "base_uri": "https://localhost:8080/"
        },
        "id": "czh-n5MBm-1p",
        "outputId": "9a5a4a22-222e-4093-8c98-39f42a08244c"
      },
      "execution_count": 7,
      "outputs": [
        {
          "output_type": "execute_result",
          "data": {
            "text/plain": [
              "40"
            ]
          },
          "metadata": {},
          "execution_count": 7
        }
      ]
    },
    {
      "cell_type": "code",
      "source": [
        "# >> : The left operands value is moved right by the number of bits specified by the right operand.\n",
        "10>>2"
      ],
      "metadata": {
        "colab": {
          "base_uri": "https://localhost:8080/"
        },
        "id": "CSsIXSflnOXn",
        "outputId": "2d73a9ce-f605-41b3-9eb4-beb1a92ffb2f"
      },
      "execution_count": 8,
      "outputs": [
        {
          "output_type": "execute_result",
          "data": {
            "text/plain": [
              "2"
            ]
          },
          "metadata": {},
          "execution_count": 8
        }
      ]
    },
    {
      "cell_type": "markdown",
      "source": [
        "####Identity Operators"
      ],
      "metadata": {
        "id": "TJRSkcGMnZJ8"
      }
    },
    {
      "cell_type": "code",
      "source": [
        "#is : evaluates to true, if the variables on either side of the operator point to the same object and is false otherwise\n",
        "x= \"Hello\"\n",
        "y= \"hello\"\n",
        "x is y"
      ],
      "metadata": {
        "colab": {
          "base_uri": "https://localhost:8080/"
        },
        "id": "orDhaSw6nYcC",
        "outputId": "e78667f4-6336-4268-f0d5-a7ed35ac9bf1"
      },
      "execution_count": 9,
      "outputs": [
        {
          "output_type": "execute_result",
          "data": {
            "text/plain": [
              "False"
            ]
          },
          "metadata": {},
          "execution_count": 9
        }
      ]
    },
    {
      "cell_type": "code",
      "source": [
        "#is not: evaluates to false, if the variables on either side of the operator point to the same object and is true otherwise\n",
        "x= \"Hello\"\n",
        "y= \"hello\"\n",
        "x is not y"
      ],
      "metadata": {
        "colab": {
          "base_uri": "https://localhost:8080/"
        },
        "id": "T0ra8KtCns9m",
        "outputId": "7b1b09d3-8b75-4ad3-99ff-7653ae14e343"
      },
      "execution_count": 10,
      "outputs": [
        {
          "output_type": "execute_result",
          "data": {
            "text/plain": [
              "True"
            ]
          },
          "metadata": {},
          "execution_count": 10
        }
      ]
    },
    {
      "cell_type": "markdown",
      "source": [
        "#VARIABLES AND DATATYPES"
      ],
      "metadata": {
        "id": "HuyuyF8An7fc"
      }
    },
    {
      "cell_type": "markdown",
      "source": [
        "####Python Variables\n",
        "\n",
        "variable is a name that is used to refer to memory location. Python is also known as an identifier and used to hold value.\n",
        "\n",
        "In python, we dont need to specify the type of variable. Pyther can infer and is snart enough to get variable type"
      ],
      "metadata": {
        "id": "E3pCA-FWn_VI"
      }
    },
    {
      "cell_type": "code",
      "source": [
        "x=10\n",
        "name=\"Amar\"\n",
        "value=10.2"
      ],
      "metadata": {
        "id": "xECi-DWjn5aC"
      },
      "execution_count": 11,
      "outputs": []
    },
    {
      "cell_type": "code",
      "source": [
        "type(x)"
      ],
      "metadata": {
        "colab": {
          "base_uri": "https://localhost:8080/"
        },
        "id": "tQKF8kUxoeat",
        "outputId": "645290ac-ee9b-4859-d90b-987d390d2d19"
      },
      "execution_count": 12,
      "outputs": [
        {
          "output_type": "execute_result",
          "data": {
            "text/plain": [
              "int"
            ]
          },
          "metadata": {},
          "execution_count": 12
        }
      ]
    },
    {
      "cell_type": "code",
      "source": [
        "type(name)"
      ],
      "metadata": {
        "colab": {
          "base_uri": "https://localhost:8080/"
        },
        "id": "wW9GXCtnofrz",
        "outputId": "42b91ad1-bf48-4409-e238-4d1e5aff77ee"
      },
      "execution_count": 13,
      "outputs": [
        {
          "output_type": "execute_result",
          "data": {
            "text/plain": [
              "str"
            ]
          },
          "metadata": {},
          "execution_count": 13
        }
      ]
    },
    {
      "cell_type": "code",
      "source": [
        "type(value)"
      ],
      "metadata": {
        "colab": {
          "base_uri": "https://localhost:8080/"
        },
        "id": "pa13aITnohVv",
        "outputId": "3a7d54ef-4981-41b3-cef2-a07877341698"
      },
      "execution_count": 14,
      "outputs": [
        {
          "output_type": "execute_result",
          "data": {
            "text/plain": [
              "float"
            ]
          },
          "metadata": {},
          "execution_count": 14
        }
      ]
    },
    {
      "cell_type": "markdown",
      "source": [
        "####Identifier\n",
        "\n",
        "Variables are the examples of identifier. An identifier is used to identify the literals used in the program.\n",
        "\n",
        "#####Rules to name an Identifier\n",
        "\n",
        "* The first character of the variable must be an alphabet or an underscore(_)\n",
        "* Only letters, digits and underscores are allowed (A-Z,a-z,0-9)\n",
        "* The name must not contain any white spaces or special characters\n",
        "* Keywords cant be identifiers\n"
      ],
      "metadata": {
        "id": "hTC2pG8Doj6Z"
      }
    },
    {
      "cell_type": "markdown",
      "source": [
        "<table border=\"1\">\n",
        "  <tr>\n",
        "    <th>Valid</th>\n",
        "    <th>Invalid</th>\n",
        "  </tr>\n",
        "  <tr>\n",
        "    <td>abc123</td>\n",
        "    <td>123abc</td>\n",
        "  </tr>\n",
        "  <tr>\n",
        "    <td>adc_de</td>\n",
        "    <td>abc@</td>\n",
        "  </tr>\n",
        "  <tr>\n",
        "    <td>_abc </td>\n",
        "    <td>123 </td>\n",
        "  </tr>\n",
        "  <tr>\n",
        "    <td>For </td>\n",
        "    <td>for </td>\n",
        "  </tr>\n",
        "</table>"
      ],
      "metadata": {
        "id": "bRJ7oY6TpfTV"
      }
    },
    {
      "cell_type": "markdown",
      "source": [
        "####Python Datatype\n",
        "\n",
        "A variable can hold different type of value. for example, name must be stored as string, whereas id is stored as an integer\n",
        "\n",
        "Variable can store data of different types\n",
        "\n",
        "<table border=\"2\">\n",
        "  <tr>\n",
        "    <th>Numeric</th>\n",
        "    <th>Dictionary</th>\n",
        "    <th>Boolean</th>\n",
        "    <th>Set</th>\n",
        "    <th>Sequence type</th>\n",
        "  </tr>\n",
        "  <tr>\n",
        "    <td>Integer,Complex number,float </td>\n",
        "    <td> </td>\n",
        "    <td> </td>\n",
        "    <td>  </td>\n",
        "    <td> Strings,List,Tuple </td>\n",
        "  </tr>\n",
        "</table>"
      ],
      "metadata": {
        "id": "-dVo-g8UqQT8"
      }
    },
    {
      "cell_type": "markdown",
      "source": [
        "#INPUT IN PYTHON"
      ],
      "metadata": {
        "id": "kh97OlW-rxFP"
      }
    },
    {
      "cell_type": "markdown",
      "source": [
        "####Python input() function\n",
        "\n",
        "input() is used to get input from the user. It prompts for the user input and reads a line. After reading data, it converts it into a string and returns that. It throws an error E of error, If its EOF\n",
        "\n",
        "#####Parameter\n",
        "prompt: It is a string message with prompt for user input\n",
        "\n",
        "#####Return\n",
        "It returns user input after converting it into a string\n"
      ],
      "metadata": {
        "id": "OpTB0NFGr16n"
      }
    },
    {
      "cell_type": "code",
      "source": [
        "val=input(\"Enter a value\")\n",
        "print(\"Entered value is :\",val)"
      ],
      "metadata": {
        "colab": {
          "base_uri": "https://localhost:8080/"
        },
        "id": "U-PM6E5uoidx",
        "outputId": "377d7031-0281-4144-e2d3-7fbdb3395b2d"
      },
      "execution_count": 16,
      "outputs": [
        {
          "output_type": "stream",
          "name": "stdout",
          "text": [
            "Enter a value15\n",
            "Entered value is : 15\n"
          ]
        }
      ]
    },
    {
      "cell_type": "code",
      "source": [],
      "metadata": {
        "id": "4S2aoJLxsqag"
      },
      "execution_count": 16,
      "outputs": []
    }
  ]
}